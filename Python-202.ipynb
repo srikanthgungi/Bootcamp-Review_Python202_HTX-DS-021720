{
 "cells": [
  {
   "cell_type": "markdown",
   "metadata": {},
   "source": [
    "# Python 202\n",
    "\n",
    "## Learning goals:\n",
    "\n",
    "Today we will:\n",
    "\n",
    "- Revisit what we can do with for loops, using dictionaries\n",
    "- Recognize function arguments, and write functions both with and without arguments (and with default values!)\n",
    "- Write functions that build up from for loops\n",
    "\n",
    "Some new things we're bringing up that weren't covered in bootcamp prep:\n",
    "\n",
    "- using `.items()` with dictionaries to call both the dictionary keys and the dictionary values\n",
    "- formatting f-strings to print a certain number of decimal places\n",
    "\n",
    "## Scenario\n",
    "\n",
    "![groc-cart](https://images.pexels.com/photos/1389103/pexels-photo-1389103.jpeg?auto=compress&cs=tinysrgb&dpr=2&h=750&w=1260)\n",
    "\n",
    "Who has ever gotten to the cash register at Costco, or Whole Foods, or Target, then seen the total and asked, _\"How did I spend that much?!\"_ \n",
    "\n",
    "We have a grocery list of items and prices, but we do not have infinite money (unfortunately), so let's use Python help us manage our shopping and expenses."
   ]
  },
  {
   "cell_type": "markdown",
   "metadata": {},
   "source": [
    "### For Loops:\n",
    "\n",
    "Let's revisit for loops. Below, we have a list of items, and a separate list of costs. Let's build up to where we can write a loop to print each item, its cost, and the total of our grocery list."
   ]
  },
  {
   "cell_type": "code",
   "execution_count": 1,
   "metadata": {},
   "outputs": [],
   "source": [
    "# Run this cell without changes\n",
    "# Here is our grocery list\n",
    "items = ['cheese', 'whole milk', 'kefir', 'tofu four-pack', 'kale', 'oranges', \n",
    "         'ham', \"ben & jerry's\"]\n",
    "\n",
    "# Here is our cost list\n",
    "cost = [2.79, 3.42, 4.50, 12.00, 2.75, 3.64, 25.00, 5.29]"
   ]
  },
  {
   "cell_type": "markdown",
   "metadata": {},
   "source": [
    "Let's make that a little nicer looking. \n",
    "\n",
    "Create a `for` loop that prints each item in the list with \"I need to buy: \" + item:"
   ]
  },
  {
   "cell_type": "code",
   "execution_count": 2,
   "metadata": {},
   "outputs": [
    {
     "name": "stdout",
     "output_type": "stream",
     "text": [
      "I need to buy cheese\n",
      "I need to buy whole milk\n",
      "I need to buy kefir\n",
      "I need to buy tofu four-pack\n",
      "I need to buy kale\n",
      "I need to buy oranges\n",
      "I need to buy ham\n",
      "I need to buy ben & jerry's\n"
     ]
    }
   ],
   "source": [
    "# Replace pass with appropriate code to write your for loop\n",
    "\n",
    "for item in items:\n",
    "    print(f\"I need to buy {item}\")"
   ]
  },
  {
   "cell_type": "markdown",
   "metadata": {},
   "source": [
    "Okay, we want to work through a dictionary, so what's one way we discussed previously to convert those two lists to a dictionary?"
   ]
  },
  {
   "cell_type": "code",
   "execution_count": 4,
   "metadata": {},
   "outputs": [
    {
     "data": {
      "text/plain": [
       "{'cheese': 2.79,\n",
       " 'whole milk': 3.42,\n",
       " 'kefir': 4.5,\n",
       " 'tofu four-pack': 12.0,\n",
       " 'kale': 2.75,\n",
       " 'oranges': 3.64,\n",
       " 'ham': 25.0,\n",
       " \"ben & jerry's\": 5.29}"
      ]
     },
     "execution_count": 4,
     "metadata": {},
     "output_type": "execute_result"
    }
   ],
   "source": [
    "# Replace None with appropriate code to create your dictionary\n",
    "grocery_list = dict(zip(items,cost))\n",
    "grocery_list"
   ]
  },
  {
   "cell_type": "code",
   "execution_count": 10,
   "metadata": {
    "scrolled": true
   },
   "outputs": [
    {
     "data": {
      "text/plain": [
       "59.39"
      ]
     },
     "execution_count": 10,
     "metadata": {},
     "output_type": "execute_result"
    }
   ],
   "source": [
    "# Check your work\n",
    "sum(grocery_list.values())\n"
   ]
  },
  {
   "cell_type": "code",
   "execution_count": 40,
   "metadata": {},
   "outputs": [
    {
     "data": {
      "text/plain": [
       "59.39"
      ]
     },
     "execution_count": 40,
     "metadata": {},
     "output_type": "execute_result"
    }
   ],
   "source": [
    "sum(cost)"
   ]
  },
  {
   "cell_type": "markdown",
   "metadata": {},
   "source": [
    "So let's now add the total grocery bill at the end for these items:\n",
    "\n",
    "(use values, not the cost list from before!)"
   ]
  },
  {
   "cell_type": "code",
   "execution_count": null,
   "metadata": {
    "scrolled": true
   },
   "outputs": [],
   "source": [
    "# Calculate your sum\n"
   ]
  },
  {
   "cell_type": "markdown",
   "metadata": {},
   "source": [
    "Gah! What if we're trying to be frugal?\n",
    "\n",
    "One way to do that would be to not buy any item that's more expensive than $10.\n",
    "\n",
    "Let's learn a new trick while we're at it - `.items()` will create two variables from a dictionary, one with the keys and one with the values.\n",
    "\n",
    "Let's use `.items()`, conditionals, and a for loop to only add items that are cheaper then $10 to our total:"
   ]
  },
  {
   "cell_type": "code",
   "execution_count": 43,
   "metadata": {
    "scrolled": true
   },
   "outputs": [
    {
     "name": "stdout",
     "output_type": "stream",
     "text": [
      "the new list is ['cheese', 'whole milk', 'kefir', 'kale', 'oranges', \"ben & jerry's\"] and its total is 22.39\n"
     ]
    }
   ],
   "source": [
    "# Code here \n",
    "frugal_grocery_list=[]\n",
    "total=0\n",
    "for key, value in grocery_list.items():\n",
    "    if value < 10:\n",
    "        frugal_grocery_list.append(key)\n",
    "        total = total +value\n",
    "print(f\"the new list is {frugal_grocery_list} and its total is {total}\")"
   ]
  },
  {
   "cell_type": "code",
   "execution_count": null,
   "metadata": {},
   "outputs": [],
   "source": []
  },
  {
   "cell_type": "markdown",
   "metadata": {},
   "source": [
    "### Functions:\n",
    "\n",
    "For the record - it's always best practice to follow [PEP-8](https://www.python.org/dev/peps/pep-0008/) standards when writing Python code. The [standard for function names](https://www.python.org/dev/peps/pep-0008/#function-and-variable-names) is that they are lowercase, separated by underscores - same as variable names."
   ]
  },
  {
   "cell_type": "markdown",
   "metadata": {},
   "source": [
    "#### Built-in functions\n",
    "\n",
    "Many useful functions are already built into Python:\n",
    "\n",
    "- `print()`: print the given string or variable's value\n",
    "- `type()`: returns the datatype of the argument\n",
    "- `len()`: returns the length of an array\n",
    "- `sum()`: returns the sum of the array's values\n",
    "- `min()`: returns the smallest member of an array \n",
    "- `max()`: returns the largest member of an array\n",
    "\n",
    "#### Writing your own functions:\n",
    "\n",
    "Below is a function that we define. How do we run it?"
   ]
  },
  {
   "cell_type": "code",
   "execution_count": 44,
   "metadata": {},
   "outputs": [],
   "source": [
    "# Run this cell without changes\n",
    "def say_hello():\n",
    "    print(\"Hello!\")"
   ]
  },
  {
   "cell_type": "code",
   "execution_count": 47,
   "metadata": {},
   "outputs": [
    {
     "name": "stdout",
     "output_type": "stream",
     "text": [
      "Hello!\n"
     ]
    }
   ],
   "source": [
    "# Test our sayHello function here\n",
    "say_hello()"
   ]
  },
  {
   "cell_type": "markdown",
   "metadata": {},
   "source": [
    "Let's talk about arguments or parameters - they allow us to make functions more dynamic and, in this case, print out whatever we want."
   ]
  },
  {
   "cell_type": "code",
   "execution_count": 48,
   "metadata": {},
   "outputs": [],
   "source": [
    "# Run this cell without changes\n",
    "def shout(phrase):\n",
    "    print(phrase + \"!!!\")"
   ]
  },
  {
   "cell_type": "code",
   "execution_count": 50,
   "metadata": {},
   "outputs": [
    {
     "name": "stdout",
     "output_type": "stream",
     "text": [
      "srikanth!!!\n"
     ]
    }
   ],
   "source": [
    "# Shout something here\n",
    "shout(\"srikanth\")"
   ]
  },
  {
   "cell_type": "markdown",
   "metadata": {},
   "source": [
    "What if we don't pass in an argument? What happens?"
   ]
  },
  {
   "cell_type": "code",
   "execution_count": 52,
   "metadata": {},
   "outputs": [
    {
     "name": "stdout",
     "output_type": "stream",
     "text": [
      "tested!!!\n"
     ]
    }
   ],
   "source": [
    "# Test our shout function without an argument\n",
    "shout(\"tested\")"
   ]
  },
  {
   "cell_type": "markdown",
   "metadata": {},
   "source": [
    "Let's establish a default value for the argument, in case one isn't passed in."
   ]
  },
  {
   "cell_type": "code",
   "execution_count": 53,
   "metadata": {},
   "outputs": [],
   "source": [
    "# Run this cell without changes\n",
    "def new_shout(phrase = \"oh hai\"):\n",
    "    print(phrase + \"!!!\")"
   ]
  },
  {
   "cell_type": "code",
   "execution_count": 54,
   "metadata": {},
   "outputs": [
    {
     "name": "stdout",
     "output_type": "stream",
     "text": [
      "oh hai!!!\n"
     ]
    }
   ],
   "source": [
    "# Test our new shout function without an argument\n",
    "new_shout()\n",
    "# Test our new shout function with an argument\n"
   ]
  },
  {
   "cell_type": "code",
   "execution_count": 55,
   "metadata": {},
   "outputs": [
    {
     "name": "stdout",
     "output_type": "stream",
     "text": [
      "sri!!!\n"
     ]
    }
   ],
   "source": [
    "new_shout('sri')"
   ]
  },
  {
   "cell_type": "markdown",
   "metadata": {},
   "source": [
    "What if we wanted to run a function, take its output and put it in to another function?\n",
    "\n",
    "What will the below code return?"
   ]
  },
  {
   "cell_type": "code",
   "execution_count": 56,
   "metadata": {},
   "outputs": [
    {
     "name": "stdout",
     "output_type": "stream",
     "text": [
      "10\n"
     ]
    }
   ],
   "source": [
    "# Run this cell without changes\n",
    "def add_one(number):\n",
    "    return number + 1\n",
    "\n",
    "def times_five(number):\n",
    "    return number * 5\n",
    "\n",
    "number_plus_one = add_one(1)\n",
    "answer = times_five(number_plus_one)\n",
    "\n",
    "print(answer)"
   ]
  },
  {
   "cell_type": "markdown",
   "metadata": {},
   "source": [
    "Can you describe the difference between `print` and `return` as a function output? Why do we need to use `return` above in order to make those functions work? What would happen if we changed `return` to `print` in those two functions - what would `answer` look like in that case?"
   ]
  },
  {
   "cell_type": "markdown",
   "metadata": {},
   "source": [
    "Can our functions take multiple arguments? They sure can!"
   ]
  },
  {
   "cell_type": "code",
   "execution_count": 62,
   "metadata": {
    "scrolled": true
   },
   "outputs": [],
   "source": [
    "# Run this cell without changes - what's wrong? Then, fix it!\n",
    "def greet_friend(name,greeting='hi'):\n",
    "    print(f\"I'd like to say {greeting} to {name}\")\n",
    "    "
   ]
  },
  {
   "cell_type": "code",
   "execution_count": 63,
   "metadata": {},
   "outputs": [
    {
     "name": "stdout",
     "output_type": "stream",
     "text": [
      "I'd like to say hi to srikanth\n"
     ]
    }
   ],
   "source": [
    "# Test our greet_friend function with different arguments or without any\n",
    "greet_friend('srikanth')"
   ]
  },
  {
   "cell_type": "markdown",
   "metadata": {},
   "source": [
    "#### Back to our shopping list:\n",
    "\n",
    "Adapt your shopping list's for loop into a function that takes a dictionary, where the key is the name of the item and the value is its cost, and only adds items if they are less than $10. \n",
    "\n",
    "It should return the total cost without items that cost more than $10."
   ]
  },
  {
   "cell_type": "code",
   "execution_count": 25,
   "metadata": {},
   "outputs": [
    {
     "name": "stdout",
     "output_type": "stream",
     "text": [
      "the new list is ['cheese', 'whole milk', 'kefir', 'kale', 'oranges', \"ben & jerry's\"] and its total is 22.39\n"
     ]
    }
   ],
   "source": [
    "# Code here \n",
    "frugal_grocery_list=[]\n",
    "total=0\n",
    "for keys, value in grocery_list.items():\n",
    "    if value < 10:\n",
    "        frugal_grocery_list.append(keys)\n",
    "        total = total +value\n",
    "print(f\"the new list is {frugal_grocery_list} and its total is {total}\")"
   ]
  },
  {
   "cell_type": "code",
   "execution_count": 72,
   "metadata": {},
   "outputs": [
    {
     "name": "stdout",
     "output_type": "stream",
     "text": [
      "the new list is ['cheese', 'whole milk', 'kefir', 'kale', 'oranges', \"ben & jerry's\"] and its total is 22.39\n"
     ]
    },
    {
     "data": {
      "text/plain": [
       "22.39"
      ]
     },
     "execution_count": 72,
     "metadata": {},
     "output_type": "execute_result"
    }
   ],
   "source": [
    "# Replace pass with the appropriate code\n",
    "def calc_frugal_total(dictionary):\n",
    "    frugal_grocery_list=[]\n",
    "    total=0\n",
    "    for keys, value in grocery_list.items():\n",
    "        if value < 10:\n",
    "            frugal_grocery_list.append(keys)\n",
    "            total= total + value\n",
    "    return total\n",
    "print(f\"the new list is {frugal_grocery_list} and its total is {total}\")\n",
    "calc_frugal_total(grocery_list)"
   ]
  },
  {
   "cell_type": "code",
   "execution_count": 67,
   "metadata": {},
   "outputs": [
    {
     "data": {
      "text/plain": [
       "{'cheese': 2.79,\n",
       " 'whole milk': 3.42,\n",
       " 'kefir': 4.5,\n",
       " 'tofu four-pack': 12.0,\n",
       " 'kale': 2.75,\n",
       " 'oranges': 3.64,\n",
       " 'ham': 25.0,\n",
       " \"ben & jerry's\": 5.29}"
      ]
     },
     "execution_count": 67,
     "metadata": {},
     "output_type": "execute_result"
    }
   ],
   "source": [
    "grocery_list"
   ]
  },
  {
   "cell_type": "code",
   "execution_count": 73,
   "metadata": {},
   "outputs": [
    {
     "data": {
      "text/plain": [
       "22.39"
      ]
     },
     "execution_count": 73,
     "metadata": {},
     "output_type": "execute_result"
    }
   ],
   "source": [
    "# Run this cell without changes to check your work\n",
    "calc_frugal_total(grocery_list)"
   ]
  },
  {
   "cell_type": "markdown",
   "metadata": {},
   "source": [
    "### Nested Dictionaries\n",
    "\n",
    "Here is a more robust shopping list of nested dictionaries:"
   ]
  },
  {
   "cell_type": "code",
   "execution_count": 24,
   "metadata": {},
   "outputs": [
    {
     "name": "stdout",
     "output_type": "stream",
     "text": [
      "the new list is ['cheese', 'whole milk', 'kefir', 'kale', 'oranges', \"ben & jerry's\"] and its total is 22.39\n"
     ]
    }
   ],
   "source": [
    "# Code here \n",
    "frugal_grocery_list=[]\n",
    "total=0\n",
    "for keys, value in grocery_list.items():\n",
    "    if value < 10:\n",
    "        frugal_grocery_list.append(keys)\n",
    "        total = total +value\n",
    "print(f\"the new list is {frugal_grocery_list} and its total is {total}\")"
   ]
  },
  {
   "cell_type": "code",
   "execution_count": 74,
   "metadata": {},
   "outputs": [],
   "source": [
    "# Run this cell without changes\n",
    "shopping_dict = {'Groceries': {\"ben & jerry's\": 5.29, 'cheese': 2.79, \n",
    "                               'ham': 25.0, 'kale': 2.75, 'kefir': 4.5, \n",
    "                               'oranges': 3.64, 'tofu four-pack': 12.0, \n",
    "                               'whole milk': 3.42},\n",
    "                 'House Supplies': {'toilet paper pack': 16.50, \n",
    "                                    'clorox spray': 6.43, 'kleenex': 2.50, },\n",
    "                 'Pet Supplies': {'fancy grain-free kibble': 65.25, \n",
    "                                  'squeaky toy': 4.50, 'treats': 8.45}}"
   ]
  },
  {
   "cell_type": "markdown",
   "metadata": {},
   "source": [
    "Nested dictionaries call for nested for loops! Write a set of nested for loops that create a total grocery list, so we have just one list to take to the store and find what we need."
   ]
  },
  {
   "cell_type": "code",
   "execution_count": 99,
   "metadata": {},
   "outputs": [
    {
     "name": "stdout",
     "output_type": "stream",
     "text": [
      "[\"ben & jerry's\", 'cheese', 'ham', 'kale', 'kefir', 'oranges', 'tofu four-pack', 'whole milk', 'toilet paper pack', 'clorox spray', 'kleenex', 'fancy grain-free kibble', 'squeaky toy', 'treats']\n"
     ]
    }
   ],
   "source": [
    "# Code to write your nested loops\n",
    "total_list=[]\n",
    "for key,value in shopping_dict.items():\n",
    "    for i in value:\n",
    "        total_list.append(i)\n",
    "print (total_list)\n",
    "        "
   ]
  },
  {
   "cell_type": "code",
   "execution_count": 102,
   "metadata": {},
   "outputs": [
    {
     "name": "stdout",
     "output_type": "stream",
     "text": [
      "[\"ben & jerry's\", 'cheese', 'ham', 'kale', 'kefir', 'oranges', 'tofu four-pack', 'whole milk', 'toilet paper pack', 'clorox spray', 'kleenex', 'fancy grain-free kibble', 'squeaky toy', 'treats']\n",
      "163.01999999999998\n"
     ]
    }
   ],
   "source": [
    "total_list=[]\n",
    "money = 0\n",
    "for key,value in shopping_dict.items():\n",
    "    for i,j in value.items():\n",
    "        total_list.append(i)\n",
    "        money = money+j\n",
    "print (total_list)\n",
    "print(money)\n",
    "\n",
    "        \n",
    "    \n",
    "\n",
    "        \n",
    "      \n"
   ]
  },
  {
   "cell_type": "code",
   "execution_count": null,
   "metadata": {},
   "outputs": [],
   "source": [
    "# Check your work\n"
   ]
  },
  {
   "cell_type": "markdown",
   "metadata": {},
   "source": [
    "Now let's turn that into a function that, when given nested dictionaries, returns a list of each item as our grocery list to take with us to the store. It should also print our expected total, so we know how much we expect to spend.\n",
    "\n",
    "Use [this link](https://stackoverflow.com/questions/45310254/fixed-digits-after-decimal-with-f-strings) for help in formatting the total to two decimal places using an f-string."
   ]
  },
  {
   "cell_type": "code",
   "execution_count": 117,
   "metadata": {},
   "outputs": [],
   "source": [
    "# Replace pass with appropriate code\n",
    "def write_grocery_list(nested_dict):\n",
    "    total_list=[]\n",
    "    money = 0\n",
    "    for key,value in shopping_dict.items():\n",
    "        for i,j in value.items():\n",
    "            total_list.append(i)\n",
    "            money = money+j\n",
    "    #print (total_list)\n",
    "    #print(f\"{money:.2f}\")\n",
    "    return(money)\n",
    "\n",
    "        \n",
    "    "
   ]
  },
  {
   "cell_type": "code",
   "execution_count": 118,
   "metadata": {},
   "outputs": [
    {
     "data": {
      "text/plain": [
       "163.01999999999998"
      ]
     },
     "execution_count": 118,
     "metadata": {},
     "output_type": "execute_result"
    }
   ],
   "source": [
    "# Run this cell without changes to check your work\n",
    "write_grocery_list(shopping_dict)"
   ]
  },
  {
   "cell_type": "markdown",
   "metadata": {},
   "source": [
    "## Level Up:\n",
    "\n",
    "Adapt your grocery function to do the following:\n",
    "\n",
    "- flag expensive items that cost more than $20, and do not add them to your list\n",
    "\n",
    "- block items that will push the total cost above $50\n",
    "\n",
    "- print out the average cost per item on your list\n",
    "\n",
    "It should still take in a nested dictionary, and return your grocery list."
   ]
  },
  {
   "cell_type": "code",
   "execution_count": 136,
   "metadata": {},
   "outputs": [],
   "source": [
    "# Code your leveled-up function here\n",
    "def write_grocery_list(nested_dict):\n",
    "    total_list=[]\n",
    "    money = 0\n",
    "    for key,value in shopping_dict.items():\n",
    "        for i,j in value.items():\n",
    "            if j <20:\n",
    "                if money+j < 50:\n",
    "                    total_list.append(i)\n",
    "                    money = money+j\n",
    "                \n",
    "                    \n",
    "    average_cost = money/len(total_list)\n",
    "           \n",
    "                \n",
    "                \n",
    "    print(total_list)\n",
    "    print(f\"the averegae cost is {average_cost}\")\n",
    "    return(money)\n"
   ]
  },
  {
   "cell_type": "code",
   "execution_count": 138,
   "metadata": {},
   "outputs": [],
   "source": [
    "# Code your leveled-up function here\n",
    "def write_grocery_list(nested_dict):\n",
    "    total_list=[]\n",
    "    money = 0\n",
    "    for key,value in shopping_dict.items():\n",
    "        for i,j in value.items():\n",
    "            if j <20:\n",
    "                total_list.append(i)\n",
    "                money = money+j\n",
    "                \n",
    "                    \n",
    "    average_cost = money/len(total_list)\n",
    "           \n",
    "                \n",
    "                \n",
    "    print(total_list)\n",
    "    print(f\"the averegae cost is {average_cost}\")\n",
    "    return(money)\n"
   ]
  },
  {
   "cell_type": "code",
   "execution_count": 139,
   "metadata": {
    "scrolled": false
   },
   "outputs": [
    {
     "name": "stdout",
     "output_type": "stream",
     "text": [
      "[\"ben & jerry's\", 'cheese', 'kale', 'kefir', 'oranges', 'tofu four-pack', 'whole milk', 'toilet paper pack', 'clorox spray', 'kleenex', 'squeaky toy', 'treats']\n",
      "the averegae cost is 6.064166666666666\n"
     ]
    },
    {
     "data": {
      "text/plain": [
       "72.77"
      ]
     },
     "execution_count": 139,
     "metadata": {},
     "output_type": "execute_result"
    }
   ],
   "source": [
    "# Check your work\n",
    "write_grocery_list(shopping_dict)"
   ]
  },
  {
   "cell_type": "code",
   "execution_count": null,
   "metadata": {},
   "outputs": [],
   "source": []
  }
 ],
 "metadata": {
  "kernelspec": {
   "display_name": "Python 3",
   "language": "python",
   "name": "python3"
  },
  "language_info": {
   "codemirror_mode": {
    "name": "ipython",
    "version": 3
   },
   "file_extension": ".py",
   "mimetype": "text/x-python",
   "name": "python",
   "nbconvert_exporter": "python",
   "pygments_lexer": "ipython3",
   "version": "3.6.9"
  }
 },
 "nbformat": 4,
 "nbformat_minor": 2
}
